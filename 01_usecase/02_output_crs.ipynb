{
  "cells": [
    {
      "cell_type": "markdown",
      "metadata": {},
      "source": [
        "\n",
        "# Output oriented model\n",
        "\n",
        "The following DEA model is an output-oriented model where the outputs are maximizing and the inputs are kept at their current levels.\n",
        "\n",
        "\\begin{align}& \\theta^* = \\min \\theta, subject \\ to \\\\\n",
        "    & \\sum_{j=1}^{n} \\lambda_j x_{i, j} \\leq x_{i, o}, i=1,2, \\dots, m; \\\\\n",
        "    & \\sum_{j=1}^{n} \\lambda_j y_{r, j} \\geq \\theta y_{r, o}, r=1,2, \\dots, s; \\\\\n",
        "    & \\sum_{j=1}^{n} \\lambda_j = 1 \\\\\n",
        "    & \\lambda_j \\geq 0, j=1,2, \\dots, n.\\end{align}\n",
        "\n",
        "where $DMU_o$ represents one of the $n$ DMUs under evaluation,\n",
        "and $x_{i, o}$ and $y_{i, o}$ are the $i$ th input and $r$ th output\n",
        "for $DMU_o$, respectively.\n"
      ]
    },
    {
      "cell_type": "markdown",
      "metadata": {},
      "source": [
        "## Import modules and prepare data.\n",
        "Average of rental properties in a given district.\n",
        "\n"
      ]
    },
    {
      "cell_type": "code",
      "execution_count": 4,
      "metadata": {
        "collapsed": false
      },
      "outputs": [
        {
          "data": {
            "application/vnd.microsoft.datawrangler.viewer.v0+json": {
              "columns": [
                {
                  "name": "index",
                  "rawType": "int64",
                  "type": "integer"
                },
                {
                  "name": "rent",
                  "rawType": "int64",
                  "type": "integer"
                },
                {
                  "name": "n_room",
                  "rawType": "float64",
                  "type": "float"
                },
                {
                  "name": "n_storage",
                  "rawType": "float64",
                  "type": "float"
                }
              ],
              "conversionMethod": "pd.DataFrame",
              "ref": "1f1e2a17-ba61-4387-a9c5-f756fbcf49da",
              "rows": [
                [
                  "0",
                  "5",
                  "6.0",
                  "2.0"
                ],
                [
                  "1",
                  "5",
                  "5.0",
                  "3.5"
                ],
                [
                  "2",
                  "5",
                  "2.0",
                  "5.0"
                ],
                [
                  "3",
                  "5",
                  "3.0",
                  "3.5"
                ]
              ],
              "shape": {
                "columns": 3,
                "rows": 4
              }
            },
            "text/html": [
              "<div>\n",
              "<style scoped>\n",
              "    .dataframe tbody tr th:only-of-type {\n",
              "        vertical-align: middle;\n",
              "    }\n",
              "\n",
              "    .dataframe tbody tr th {\n",
              "        vertical-align: top;\n",
              "    }\n",
              "\n",
              "    .dataframe thead th {\n",
              "        text-align: right;\n",
              "    }\n",
              "</style>\n",
              "<table border=\"1\" class=\"dataframe\">\n",
              "  <thead>\n",
              "    <tr style=\"text-align: right;\">\n",
              "      <th></th>\n",
              "      <th>rent</th>\n",
              "      <th>n_room</th>\n",
              "      <th>n_storage</th>\n",
              "    </tr>\n",
              "  </thead>\n",
              "  <tbody>\n",
              "    <tr>\n",
              "      <th>0</th>\n",
              "      <td>5</td>\n",
              "      <td>6.0</td>\n",
              "      <td>2.0</td>\n",
              "    </tr>\n",
              "    <tr>\n",
              "      <th>1</th>\n",
              "      <td>5</td>\n",
              "      <td>5.0</td>\n",
              "      <td>3.5</td>\n",
              "    </tr>\n",
              "    <tr>\n",
              "      <th>2</th>\n",
              "      <td>5</td>\n",
              "      <td>2.0</td>\n",
              "      <td>5.0</td>\n",
              "    </tr>\n",
              "    <tr>\n",
              "      <th>3</th>\n",
              "      <td>5</td>\n",
              "      <td>3.0</td>\n",
              "      <td>3.5</td>\n",
              "    </tr>\n",
              "  </tbody>\n",
              "</table>\n",
              "</div>"
            ],
            "text/plain": [
              "   rent  n_room  n_storage\n",
              "0     5     6.0        2.0\n",
              "1     5     5.0        3.5\n",
              "2     5     2.0        5.0\n",
              "3     5     3.0        3.5"
            ]
          },
          "execution_count": 4,
          "metadata": {},
          "output_type": "execute_result"
        }
      ],
      "source": [
        "import matplotlib.pyplot as plt\n",
        "import pandas as pd\n",
        "\n",
        "from Pyfrontier.frontier_model import EnvelopDEA\n",
        "\n",
        "rent_average_df = pd.DataFrame(\n",
        "    {\"rent\": [5, 5, 5, 5], \"n_room\": [6, 5, 2, 3.0], \"n_storage\": [2, 3.5, 5, 3.5]}\n",
        ")\n",
        "rent_average_df"
      ]
    },
    {
      "cell_type": "markdown",
      "metadata": {},
      "source": [
        "## Fit dea model.\n",
        "\n",
        "The necessity inputs are inputs and outputs. The result has below belongings.\n",
        "\n"
      ]
    },
    {
      "cell_type": "code",
      "execution_count": 5,
      "metadata": {},
      "outputs": [
        {
          "name": "stdout",
          "output_type": "stream",
          "text": [
            "/Users/moky/miniconda3/envs/johi_env/lib/python3.13/site-packages/pulp/solverdir/cbc/osx/arm64/cbc\n",
            "Available solvers: ['GLPK_CMD', 'COIN_CMD']\n"
          ]
        }
      ],
      "source": [
        "import pulp as pl\n",
        "print(pl.pulp_cbc_path)\n",
        "print(\"Available solvers:\", pl.listSolvers(onlyAvailable=True))"
      ]
    },
    {
      "cell_type": "code",
      "execution_count": 6,
      "metadata": {
        "collapsed": false
      },
      "outputs": [
        {
          "name": "stdout",
          "output_type": "stream",
          "text": [
            "GLPSOL--GLPK LP/MIP Solver 5.0\n",
            "Parameter(s) specified in the command line:\n",
            " --cpxlp /var/folders/_y/krk2nfs579bdmxnfc1j2_cpc0000gn/T/989ad7a3e4f14a46838b9a42ad33be6e-pulp.lp\n",
            " -o /var/folders/_y/krk2nfs579bdmxnfc1j2_cpc0000gn/T/989ad7a3e4f14a46838b9a42ad33be6e-pulp.sol\n",
            "Reading problem data from '/var/folders/_y/krk2nfs579bdmxnfc1j2_cpc0000gn/T/989ad7a3e4f14a46838b9a42ad33be6e-pulp.lp'...\n",
            "3 rows, 5 columns, 14 non-zeros\n",
            "8 lines were read\n",
            "GLPK Simplex Optimizer 5.0\n",
            "3 rows, 5 columns, 14 non-zeros\n",
            "Preprocessing...\n",
            "3 rows, 5 columns, 14 non-zeros\n",
            "Scaling...\n",
            " A: min|aij| =  2.000e+00  max|aij| =  6.000e+00  ratio =  3.000e+00\n",
            "Problem data seem to be well scaled\n",
            "Constructing initial basis...\n",
            "Size of triangular part is 3\n",
            "*     0: obj =  -0.000000000e+00 inf =   0.000e+00 (1)\n",
            "*     2: obj =   1.000000000e+00 inf =   0.000e+00 (0)\n",
            "OPTIMAL LP SOLUTION FOUND\n",
            "Time used:   0.0 secs\n",
            "Memory used: 0.0 Mb (32525 bytes)\n",
            "Writing basic solution to '/var/folders/_y/krk2nfs579bdmxnfc1j2_cpc0000gn/T/989ad7a3e4f14a46838b9a42ad33be6e-pulp.sol'...\n"
          ]
        },
        {
          "ename": "PulpSolverError",
          "evalue": "PULP_CBC_CMD: Not Available (check permissions on /Users/moky/miniconda3/envs/johi_env/lib/python3.13/site-packages/pulp/solverdir/cbc/osx/arm64/cbc)",
          "output_type": "error",
          "traceback": [
            "\u001b[0;31m---------------------------------------------------------------------------\u001b[0m",
            "\u001b[0;31mPulpSolverError\u001b[0m                           Traceback (most recent call last)",
            "Cell \u001b[0;32mIn[6], line 2\u001b[0m\n\u001b[1;32m      1\u001b[0m dea \u001b[38;5;241m=\u001b[39m EnvelopDEA(\u001b[38;5;124m\"\u001b[39m\u001b[38;5;124mCRS\u001b[39m\u001b[38;5;124m\"\u001b[39m, \u001b[38;5;124m\"\u001b[39m\u001b[38;5;124mout\u001b[39m\u001b[38;5;124m\"\u001b[39m)\n\u001b[0;32m----> 2\u001b[0m dea\u001b[38;5;241m.\u001b[39mfit(\n\u001b[1;32m      3\u001b[0m     rent_average_df[[\u001b[38;5;124m\"\u001b[39m\u001b[38;5;124mrent\u001b[39m\u001b[38;5;124m\"\u001b[39m]]\u001b[38;5;241m.\u001b[39mto_numpy(),\n\u001b[1;32m      4\u001b[0m     rent_average_df[[\u001b[38;5;124m\"\u001b[39m\u001b[38;5;124mn_room\u001b[39m\u001b[38;5;124m\"\u001b[39m, \u001b[38;5;124m\"\u001b[39m\u001b[38;5;124mn_storage\u001b[39m\u001b[38;5;124m\"\u001b[39m]]\u001b[38;5;241m.\u001b[39mto_numpy(),\n\u001b[1;32m      5\u001b[0m     \n\u001b[1;32m      6\u001b[0m )\n\u001b[1;32m      8\u001b[0m dea\u001b[38;5;241m.\u001b[39mresult[\u001b[38;5;241m0\u001b[39m]\n",
            "File \u001b[0;32m~/miniconda3/envs/johi_env/lib/python3.13/site-packages/Pyfrontier/frontier_model/_dea.py:64\u001b[0m, in \u001b[0;36mEnvelopDEA.fit\u001b[0;34m(self, inputs, outputs, index, uncontrollable_index)\u001b[0m\n\u001b[1;32m     55\u001b[0m \u001b[38;5;66;03m# call solver.\u001b[39;00m\n\u001b[1;32m     56\u001b[0m solver \u001b[38;5;241m=\u001b[39m EnvelopeSolver(\n\u001b[1;32m     57\u001b[0m     \u001b[38;5;28mself\u001b[39m\u001b[38;5;241m.\u001b[39morient,\n\u001b[1;32m     58\u001b[0m     \u001b[38;5;28mself\u001b[39m\u001b[38;5;241m.\u001b[39mfrontier,\n\u001b[0;32m   (...)\u001b[0m\n\u001b[1;32m     62\u001b[0m     n_jobs\u001b[38;5;241m=\u001b[39m\u001b[38;5;28mself\u001b[39m\u001b[38;5;241m.\u001b[39mn_jobs,\n\u001b[1;32m     63\u001b[0m )\n\u001b[0;32m---> 64\u001b[0m \u001b[38;5;28mself\u001b[39m\u001b[38;5;241m.\u001b[39mresult \u001b[38;5;241m=\u001b[39m solver\u001b[38;5;241m.\u001b[39mapply()\n",
            "File \u001b[0;32m~/miniconda3/envs/johi_env/lib/python3.13/site-packages/Pyfrontier/solver/_envelope_solver.py:39\u001b[0m, in \u001b[0;36mEnvelopeSolver.apply\u001b[0;34m(self)\u001b[0m\n\u001b[1;32m     37\u001b[0m \u001b[38;5;28;01mdef\u001b[39;00m \u001b[38;5;21mapply\u001b[39m(\u001b[38;5;28mself\u001b[39m) \u001b[38;5;241m-\u001b[39m\u001b[38;5;241m>\u001b[39m List[EnvelopResult]:\n\u001b[1;32m     38\u001b[0m     processor \u001b[38;5;241m=\u001b[39m MultiProcessor(\u001b[38;5;28mself\u001b[39m\u001b[38;5;241m.\u001b[39m_solve_problem, \u001b[38;5;28mself\u001b[39m\u001b[38;5;241m.\u001b[39mDMUs\u001b[38;5;241m.\u001b[39mN)\n\u001b[0;32m---> 39\u001b[0m     \u001b[38;5;28;01mreturn\u001b[39;00m processor\u001b[38;5;241m.\u001b[39msolve(\u001b[38;5;28mself\u001b[39m\u001b[38;5;241m.\u001b[39mn_jobs)\n",
            "File \u001b[0;32m~/miniconda3/envs/johi_env/lib/python3.13/site-packages/Pyfrontier/domain/parallel.py:33\u001b[0m, in \u001b[0;36mMultiProcessor.solve\u001b[0;34m(self, n_jobs)\u001b[0m\n\u001b[1;32m     31\u001b[0m \u001b[38;5;28;01mdef\u001b[39;00m \u001b[38;5;21msolve\u001b[39m(\u001b[38;5;28mself\u001b[39m, n_jobs: \u001b[38;5;28mint\u001b[39m) \u001b[38;5;241m-\u001b[39m\u001b[38;5;241m>\u001b[39m List[BaseResult]:\n\u001b[1;32m     32\u001b[0m     \u001b[38;5;28;01mif\u001b[39;00m n_jobs \u001b[38;5;241m<\u001b[39m\u001b[38;5;241m=\u001b[39m \u001b[38;5;241m1\u001b[39m:\n\u001b[0;32m---> 33\u001b[0m         \u001b[38;5;28;01mreturn\u001b[39;00m [\u001b[38;5;28mself\u001b[39m\u001b[38;5;241m.\u001b[39m_solver_function(j) \u001b[38;5;28;01mfor\u001b[39;00m j \u001b[38;5;129;01min\u001b[39;00m \u001b[38;5;28mrange\u001b[39m(\u001b[38;5;28mself\u001b[39m\u001b[38;5;241m.\u001b[39m_n_dmus)]\n\u001b[1;32m     34\u001b[0m     \u001b[38;5;28;01melse\u001b[39;00m:\n\u001b[1;32m     35\u001b[0m         pool \u001b[38;5;241m=\u001b[39m multiprocessing\u001b[38;5;241m.\u001b[39mPool(n_jobs)\n",
            "File \u001b[0;32m~/miniconda3/envs/johi_env/lib/python3.13/site-packages/Pyfrontier/solver/_envelope_solver.py:129\u001b[0m, in \u001b[0;36mEnvelopeSolver._solve_problem\u001b[0;34m(self, o)\u001b[0m\n\u001b[1;32m    126\u001b[0m problem\u001b[38;5;241m.\u001b[39msolve()\n\u001b[1;32m    128\u001b[0m score \u001b[38;5;241m=\u001b[39m \u001b[38;5;28mself\u001b[39m\u001b[38;5;241m.\u001b[39m_rounder(problem\u001b[38;5;241m.\u001b[39mobjective\u001b[38;5;241m.\u001b[39mvalue())\n\u001b[0;32m--> 129\u001b[0m sx, sy \u001b[38;5;241m=\u001b[39m \u001b[38;5;28mself\u001b[39m\u001b[38;5;241m.\u001b[39m_optimize_slack(score, o)\n\u001b[1;32m    131\u001b[0m \u001b[38;5;28;01mreturn\u001b[39;00m EnvelopResult(\n\u001b[1;32m    132\u001b[0m     score\u001b[38;5;241m=\u001b[39m\u001b[38;5;28mself\u001b[39m\u001b[38;5;241m.\u001b[39m_rounder(problem\u001b[38;5;241m.\u001b[39mobjective\u001b[38;5;241m.\u001b[39mvalue()),\n\u001b[1;32m    133\u001b[0m     weights\u001b[38;5;241m=\u001b[39m[\u001b[38;5;28mself\u001b[39m\u001b[38;5;241m.\u001b[39m_rounder(n\u001b[38;5;241m.\u001b[39mvalue()) \u001b[38;5;28;01mfor\u001b[39;00m n \u001b[38;5;129;01min\u001b[39;00m lambda_N],\n\u001b[0;32m   (...)\u001b[0m\n\u001b[1;32m    137\u001b[0m     dmu\u001b[38;5;241m=\u001b[39mDMU(\u001b[38;5;28mself\u001b[39m\u001b[38;5;241m.\u001b[39mDMUs\u001b[38;5;241m.\u001b[39minputs[o], \u001b[38;5;28mself\u001b[39m\u001b[38;5;241m.\u001b[39mDMUs\u001b[38;5;241m.\u001b[39moutputs[o], \u001b[38;5;28mself\u001b[39m\u001b[38;5;241m.\u001b[39mDMUs\u001b[38;5;241m.\u001b[39mget_id(o)),\n\u001b[1;32m    138\u001b[0m )\n",
            "File \u001b[0;32m~/miniconda3/envs/johi_env/lib/python3.13/site-packages/Pyfrontier/solver/_envelope_solver.py:147\u001b[0m, in \u001b[0;36mEnvelopeSolver._optimize_slack\u001b[0;34m(self, theta, o)\u001b[0m\n\u001b[1;32m    143\u001b[0m \u001b[38;5;28;01melse\u001b[39;00m:\n\u001b[1;32m    144\u001b[0m     slack_solver \u001b[38;5;241m=\u001b[39m SlackSolver(\n\u001b[1;32m    145\u001b[0m         \u001b[38;5;28mself\u001b[39m\u001b[38;5;241m.\u001b[39morient, \u001b[38;5;28mself\u001b[39m\u001b[38;5;241m.\u001b[39mDMUs, \u001b[38;5;28mself\u001b[39m\u001b[38;5;241m.\u001b[39m_uncontrollable_index\n\u001b[1;32m    146\u001b[0m     )\n\u001b[0;32m--> 147\u001b[0m \u001b[38;5;28;01mreturn\u001b[39;00m slack_solver\u001b[38;5;241m.\u001b[39mapply(o, theta)\n",
            "File \u001b[0;32m~/miniconda3/envs/johi_env/lib/python3.13/site-packages/Pyfrontier/solver/_envelope_solver.py:157\u001b[0m, in \u001b[0;36mSlackSolver.apply\u001b[0;34m(self, o, theta)\u001b[0m\n\u001b[1;32m    156\u001b[0m \u001b[38;5;28;01mdef\u001b[39;00m \u001b[38;5;21mapply\u001b[39m(\u001b[38;5;28mself\u001b[39m, o: \u001b[38;5;28mint\u001b[39m, theta: \u001b[38;5;28mfloat\u001b[39m) \u001b[38;5;241m-\u001b[39m\u001b[38;5;241m>\u001b[39m Tuple[\u001b[38;5;28mlist\u001b[39m, \u001b[38;5;28mlist\u001b[39m]:\n\u001b[0;32m--> 157\u001b[0m     slack_result \u001b[38;5;241m=\u001b[39m \u001b[38;5;28mself\u001b[39m\u001b[38;5;241m.\u001b[39m_solve_problem(o, theta)\n\u001b[1;32m    158\u001b[0m     \u001b[38;5;28;01mreturn\u001b[39;00m slack_result[\u001b[38;5;124m\"\u001b[39m\u001b[38;5;124msx\u001b[39m\u001b[38;5;124m\"\u001b[39m], slack_result[\u001b[38;5;124m\"\u001b[39m\u001b[38;5;124msy\u001b[39m\u001b[38;5;124m\"\u001b[39m]\n",
            "File \u001b[0;32m~/miniconda3/envs/johi_env/lib/python3.13/site-packages/Pyfrontier/solver/_envelope_solver.py:225\u001b[0m, in \u001b[0;36mSlackSolver._solve_problem\u001b[0;34m(self, o, theta)\u001b[0m\n\u001b[1;32m    222\u001b[0m     problem \u001b[38;5;241m=\u001b[39m \u001b[38;5;28mself\u001b[39m\u001b[38;5;241m.\u001b[39m_define_output_orient_problem(o, sx, sy, lambda_N, theta)\n\u001b[1;32m    223\u001b[0m problem \u001b[38;5;241m+\u001b[39m\u001b[38;5;241m=\u001b[39m np\u001b[38;5;241m.\u001b[39msum(lambda_N) \u001b[38;5;241m==\u001b[39m \u001b[38;5;241m1\u001b[39m\n\u001b[0;32m--> 225\u001b[0m problem\u001b[38;5;241m.\u001b[39msolve(pulp\u001b[38;5;241m.\u001b[39mPULP_CBC_CMD(msg\u001b[38;5;241m=\u001b[39m\u001b[38;5;241m1\u001b[39m, gapRel\u001b[38;5;241m=\u001b[39m\u001b[38;5;241m1e-10\u001b[39m, options\u001b[38;5;241m=\u001b[39m[\u001b[38;5;124m\"\u001b[39m\u001b[38;5;124mrevised\u001b[39m\u001b[38;5;124m\"\u001b[39m]))\n\u001b[1;32m    227\u001b[0m \u001b[38;5;28;01mreturn\u001b[39;00m {\u001b[38;5;124m\"\u001b[39m\u001b[38;5;124msx\u001b[39m\u001b[38;5;124m\"\u001b[39m: [i\u001b[38;5;241m.\u001b[39mvalue() \u001b[38;5;28;01mfor\u001b[39;00m i \u001b[38;5;129;01min\u001b[39;00m sx], \u001b[38;5;124m\"\u001b[39m\u001b[38;5;124msy\u001b[39m\u001b[38;5;124m\"\u001b[39m: [r\u001b[38;5;241m.\u001b[39mvalue() \u001b[38;5;28;01mfor\u001b[39;00m r \u001b[38;5;129;01min\u001b[39;00m sy]}\n",
            "File \u001b[0;32m~/miniconda3/envs/johi_env/lib/python3.13/site-packages/pulp/pulp.py:1996\u001b[0m, in \u001b[0;36mLpProblem.solve\u001b[0;34m(self, solver, **kwargs)\u001b[0m\n\u001b[1;32m   1994\u001b[0m \u001b[38;5;66;03m# time it\u001b[39;00m\n\u001b[1;32m   1995\u001b[0m \u001b[38;5;28mself\u001b[39m\u001b[38;5;241m.\u001b[39mstartClock()\n\u001b[0;32m-> 1996\u001b[0m status \u001b[38;5;241m=\u001b[39m solver\u001b[38;5;241m.\u001b[39mactualSolve(\u001b[38;5;28mself\u001b[39m, \u001b[38;5;241m*\u001b[39m\u001b[38;5;241m*\u001b[39mkwargs)\n\u001b[1;32m   1997\u001b[0m \u001b[38;5;28mself\u001b[39m\u001b[38;5;241m.\u001b[39mstopClock()\n\u001b[1;32m   1998\u001b[0m \u001b[38;5;28mself\u001b[39m\u001b[38;5;241m.\u001b[39mrestoreObjective(wasNone, dummyVar)\n",
            "File \u001b[0;32m~/miniconda3/envs/johi_env/lib/python3.13/site-packages/pulp/apis/coin_api.py:354\u001b[0m, in \u001b[0;36mPULP_CBC_CMD.actualSolve\u001b[0;34m(self, lp, callback)\u001b[0m\n\u001b[1;32m    352\u001b[0m \u001b[38;5;28;01mdef\u001b[39;00m \u001b[38;5;21mactualSolve\u001b[39m(\u001b[38;5;28mself\u001b[39m, lp, callback\u001b[38;5;241m=\u001b[39m\u001b[38;5;28;01mNone\u001b[39;00m):\n\u001b[1;32m    353\u001b[0m \u001b[38;5;250m    \u001b[39m\u001b[38;5;124;03m\"\"\"Solve a well formulated lp problem\"\"\"\u001b[39;00m\n\u001b[0;32m--> 354\u001b[0m     \u001b[38;5;28;01mraise\u001b[39;00m PulpSolverError(\n\u001b[1;32m    355\u001b[0m         \u001b[38;5;124m\"\u001b[39m\u001b[38;5;124mPULP_CBC_CMD: Not Available (check permissions on \u001b[39m\u001b[38;5;132;01m%s\u001b[39;00m\u001b[38;5;124m)\u001b[39m\u001b[38;5;124m\"\u001b[39m\n\u001b[1;32m    356\u001b[0m         \u001b[38;5;241m%\u001b[39m \u001b[38;5;28mself\u001b[39m\u001b[38;5;241m.\u001b[39mpulp_cbc_path\n\u001b[1;32m    357\u001b[0m     )\n",
            "\u001b[0;31mPulpSolverError\u001b[0m: PULP_CBC_CMD: Not Available (check permissions on /Users/moky/miniconda3/envs/johi_env/lib/python3.13/site-packages/pulp/solverdir/cbc/osx/arm64/cbc)"
          ]
        }
      ],
      "source": [
        "dea = EnvelopDEA(\"CRS\", \"out\")\n",
        "dea.fit(\n",
        "    rent_average_df[[\"rent\"]].to_numpy(),\n",
        "    rent_average_df[[\"n_room\", \"n_storage\"]].to_numpy(),\n",
        "    \n",
        ")\n",
        "\n",
        "dea.result[0]"
      ]
    },
    {
      "cell_type": "markdown",
      "metadata": {},
      "source": [
        "## Visualize the result.\n",
        "\n",
        "In the built documentation.\n",
        "\n"
      ]
    },
    {
      "cell_type": "code",
      "execution_count": null,
      "metadata": {
        "collapsed": false
      },
      "outputs": [],
      "source": [
        "eff_dmu = [r.dmu for r in dea.result if r.is_efficient]\n",
        "ineff_dmu = [r.dmu for r in dea.result if r.is_efficient != 1]\n",
        "\n",
        "plt.figure()\n",
        "plt.plot(\n",
        "    [d.output[0] for d in eff_dmu],\n",
        "    [d.output[1] for d in eff_dmu],\n",
        "    \"-o\",\n",
        "    label=\"efficient dmu\",\n",
        ")\n",
        "plt.plot(\n",
        "    [d.output[0] for d in ineff_dmu],\n",
        "    [d.output[1] for d in ineff_dmu],\n",
        "    \"o\",\n",
        "    label=\"not-efficient dmu\",\n",
        ")\n",
        "plt.plot([6, 6], [2, 0], color=\"C0\")\n",
        "plt.plot([2, 0], [5, 5], color=\"C0\")\n",
        "plt.plot([0, 3.6], [0, 4.2], color=\"black\", linestyle=\"--\")\n",
        "\n",
        "plt.legend()\n",
        "plt.show()"
      ]
    },
    {
      "cell_type": "markdown",
      "metadata": {},
      "source": [
        "## About slack\n",
        "\n",
        "In the built documentation.\n",
        "\n"
      ]
    },
    {
      "cell_type": "code",
      "execution_count": null,
      "metadata": {
        "collapsed": false
      },
      "outputs": [],
      "source": [
        "print([r.score for r in dea.result])\n",
        "print([r.is_efficient for r in dea.result])\n",
        "print([r.has_slack for r in dea.result])\n",
        "\n",
        "print(dea.result[-2].x_slack, dea.result[-2].y_slack)"
      ]
    }
  ],
  "metadata": {
    "kernelspec": {
      "display_name": "johi_env",
      "language": "python",
      "name": "python3"
    },
    "language_info": {
      "codemirror_mode": {
        "name": "ipython",
        "version": 3
      },
      "file_extension": ".py",
      "mimetype": "text/x-python",
      "name": "python",
      "nbconvert_exporter": "python",
      "pygments_lexer": "ipython3",
      "version": "3.13.2"
    }
  },
  "nbformat": 4,
  "nbformat_minor": 0
}
