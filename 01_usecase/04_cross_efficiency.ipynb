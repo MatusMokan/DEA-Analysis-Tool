{
  "cells": [
    {
      "cell_type": "markdown",
      "metadata": {},
      "source": [
        "\n",
        "# Cross efficiency\n",
        "\n",
        "Preparing...\n"
      ]
    },
    {
      "cell_type": "markdown",
      "metadata": {},
      "source": [
        "## Import modules and prepare data.\n",
        "\n",
        "\n"
      ]
    },
    {
      "cell_type": "code",
      "execution_count": 2,
      "metadata": {
        "collapsed": false
      },
      "outputs": [],
      "source": [
        "import matplotlib.pyplot as plt\n",
        "import pandas as pd\n",
        "\n",
        "from Pyfrontier.frontier_model import MultipleDEA\n",
        "\n",
        "df = pd.DataFrame(\n",
        "    {\"price\": [3, 2, 4, 6, 4], \"rent\": [5, 2, 2, 1, 6], \"output\": [2, 1.5, 3, 2, 2]}\n",
        ")"
      ]
    },
    {
      "cell_type": "code",
      "execution_count": 3,
      "metadata": {
        "collapsed": false
      },
      "outputs": [
        {
          "ename": "PulpSolverError",
          "evalue": "PULP_CBC_CMD: Not Available (check permissions on /Users/moky/miniconda3/envs/johi_env/lib/python3.13/site-packages/pulp/solverdir/cbc/osx/arm64/cbc)",
          "output_type": "error",
          "traceback": [
            "\u001b[0;31m---------------------------------------------------------------------------\u001b[0m",
            "\u001b[0;31mPulpSolverError\u001b[0m                           Traceback (most recent call last)",
            "Cell \u001b[0;32mIn[3], line 2\u001b[0m\n\u001b[1;32m      1\u001b[0m dea \u001b[38;5;241m=\u001b[39m MultipleDEA(\u001b[38;5;124m\"\u001b[39m\u001b[38;5;124mCRS\u001b[39m\u001b[38;5;124m\"\u001b[39m, \u001b[38;5;124m\"\u001b[39m\u001b[38;5;124min\u001b[39m\u001b[38;5;124m\"\u001b[39m)\n\u001b[0;32m----> 2\u001b[0m dea\u001b[38;5;241m.\u001b[39mfit(df[[\u001b[38;5;124m\"\u001b[39m\u001b[38;5;124mprice\u001b[39m\u001b[38;5;124m\"\u001b[39m, \u001b[38;5;124m\"\u001b[39m\u001b[38;5;124mrent\u001b[39m\u001b[38;5;124m\"\u001b[39m]]\u001b[38;5;241m.\u001b[39mto_numpy(), df[[\u001b[38;5;124m\"\u001b[39m\u001b[38;5;124moutput\u001b[39m\u001b[38;5;124m\"\u001b[39m]]\u001b[38;5;241m.\u001b[39mto_numpy())\n",
            "File \u001b[0;32m~/miniconda3/envs/johi_env/lib/python3.13/site-packages/Pyfrontier/frontier_model/_dea.py:117\u001b[0m, in \u001b[0;36mMultipleDEA.fit\u001b[0;34m(self, inputs, outputs, index)\u001b[0m\n\u001b[1;32m    109\u001b[0m \u001b[38;5;66;03m# call solver.\u001b[39;00m\n\u001b[1;32m    110\u001b[0m solver \u001b[38;5;241m=\u001b[39m MultipleSolver(\n\u001b[1;32m    111\u001b[0m     \u001b[38;5;28mself\u001b[39m\u001b[38;5;241m.\u001b[39morient,\n\u001b[1;32m    112\u001b[0m     \u001b[38;5;28mself\u001b[39m\u001b[38;5;241m.\u001b[39mfrontier,\n\u001b[0;32m   (...)\u001b[0m\n\u001b[1;32m    115\u001b[0m     n_jobs\u001b[38;5;241m=\u001b[39m\u001b[38;5;28mself\u001b[39m\u001b[38;5;241m.\u001b[39mn_jobs,\n\u001b[1;32m    116\u001b[0m )\n\u001b[0;32m--> 117\u001b[0m \u001b[38;5;28mself\u001b[39m\u001b[38;5;241m.\u001b[39mresult \u001b[38;5;241m=\u001b[39m solver\u001b[38;5;241m.\u001b[39mapply()\n",
            "File \u001b[0;32m~/miniconda3/envs/johi_env/lib/python3.13/site-packages/Pyfrontier/solver/_multiple_solver.py:39\u001b[0m, in \u001b[0;36mMultipleSolver.apply\u001b[0;34m(self)\u001b[0m\n\u001b[1;32m     37\u001b[0m \u001b[38;5;28;01mdef\u001b[39;00m \u001b[38;5;21mapply\u001b[39m(\u001b[38;5;28mself\u001b[39m) \u001b[38;5;241m-\u001b[39m\u001b[38;5;241m>\u001b[39m List[MultipleResult]:\n\u001b[1;32m     38\u001b[0m     processor \u001b[38;5;241m=\u001b[39m MultiProcessor(\u001b[38;5;28mself\u001b[39m\u001b[38;5;241m.\u001b[39m_solve_problem, \u001b[38;5;28mself\u001b[39m\u001b[38;5;241m.\u001b[39mDMUs\u001b[38;5;241m.\u001b[39mN)\n\u001b[0;32m---> 39\u001b[0m     \u001b[38;5;28;01mreturn\u001b[39;00m processor\u001b[38;5;241m.\u001b[39msolve(\u001b[38;5;28mself\u001b[39m\u001b[38;5;241m.\u001b[39mn_jobs)\n",
            "File \u001b[0;32m~/miniconda3/envs/johi_env/lib/python3.13/site-packages/Pyfrontier/domain/parallel.py:33\u001b[0m, in \u001b[0;36mMultiProcessor.solve\u001b[0;34m(self, n_jobs)\u001b[0m\n\u001b[1;32m     31\u001b[0m \u001b[38;5;28;01mdef\u001b[39;00m \u001b[38;5;21msolve\u001b[39m(\u001b[38;5;28mself\u001b[39m, n_jobs: \u001b[38;5;28mint\u001b[39m) \u001b[38;5;241m-\u001b[39m\u001b[38;5;241m>\u001b[39m List[BaseResult]:\n\u001b[1;32m     32\u001b[0m     \u001b[38;5;28;01mif\u001b[39;00m n_jobs \u001b[38;5;241m<\u001b[39m\u001b[38;5;241m=\u001b[39m \u001b[38;5;241m1\u001b[39m:\n\u001b[0;32m---> 33\u001b[0m         \u001b[38;5;28;01mreturn\u001b[39;00m [\u001b[38;5;28mself\u001b[39m\u001b[38;5;241m.\u001b[39m_solver_function(j) \u001b[38;5;28;01mfor\u001b[39;00m j \u001b[38;5;129;01min\u001b[39;00m \u001b[38;5;28mrange\u001b[39m(\u001b[38;5;28mself\u001b[39m\u001b[38;5;241m.\u001b[39m_n_dmus)]\n\u001b[1;32m     34\u001b[0m     \u001b[38;5;28;01melse\u001b[39;00m:\n\u001b[1;32m     35\u001b[0m         pool \u001b[38;5;241m=\u001b[39m multiprocessing\u001b[38;5;241m.\u001b[39mPool(n_jobs)\n",
            "File \u001b[0;32m~/miniconda3/envs/johi_env/lib/python3.13/site-packages/Pyfrontier/solver/_multiple_solver.py:94\u001b[0m, in \u001b[0;36mMultipleSolver._solve_problem\u001b[0;34m(self, o)\u001b[0m\n\u001b[1;32m     90\u001b[0m     problem \u001b[38;5;241m=\u001b[39m \u001b[38;5;28mself\u001b[39m\u001b[38;5;241m.\u001b[39m_define_output_oriented_problem(bias, mu, nu, o)\n\u001b[1;32m     92\u001b[0m problem \u001b[38;5;241m=\u001b[39m \u001b[38;5;28mself\u001b[39m\u001b[38;5;241m.\u001b[39m_apply_assurance_region(problem, mu, nu)\n\u001b[0;32m---> 94\u001b[0m problem\u001b[38;5;241m.\u001b[39msolve(pulp\u001b[38;5;241m.\u001b[39mPULP_CBC_CMD(msg\u001b[38;5;241m=\u001b[39m\u001b[38;5;241m1\u001b[39m, gapRel\u001b[38;5;241m=\u001b[39m\u001b[38;5;241m1e-10\u001b[39m, options\u001b[38;5;241m=\u001b[39m[\u001b[38;5;124m\"\u001b[39m\u001b[38;5;124mrevised\u001b[39m\u001b[38;5;124m\"\u001b[39m]))\n\u001b[1;32m     96\u001b[0m \u001b[38;5;28;01mreturn\u001b[39;00m MultipleResult(\n\u001b[1;32m     97\u001b[0m     score\u001b[38;5;241m=\u001b[39m\u001b[38;5;28mself\u001b[39m\u001b[38;5;241m.\u001b[39m_rounder(problem\u001b[38;5;241m.\u001b[39mobjective\u001b[38;5;241m.\u001b[39mvalue()),\n\u001b[1;32m     98\u001b[0m     \u001b[38;5;28mid\u001b[39m\u001b[38;5;241m=\u001b[39mo,\n\u001b[0;32m   (...)\u001b[0m\n\u001b[1;32m    102\u001b[0m     bias\u001b[38;5;241m=\u001b[39m\u001b[38;5;28mself\u001b[39m\u001b[38;5;241m.\u001b[39m_derive_value_from_bias(bias),\n\u001b[1;32m    103\u001b[0m )\n",
            "File \u001b[0;32m~/miniconda3/envs/johi_env/lib/python3.13/site-packages/pulp/pulp.py:1996\u001b[0m, in \u001b[0;36mLpProblem.solve\u001b[0;34m(self, solver, **kwargs)\u001b[0m\n\u001b[1;32m   1994\u001b[0m \u001b[38;5;66;03m# time it\u001b[39;00m\n\u001b[1;32m   1995\u001b[0m \u001b[38;5;28mself\u001b[39m\u001b[38;5;241m.\u001b[39mstartClock()\n\u001b[0;32m-> 1996\u001b[0m status \u001b[38;5;241m=\u001b[39m solver\u001b[38;5;241m.\u001b[39mactualSolve(\u001b[38;5;28mself\u001b[39m, \u001b[38;5;241m*\u001b[39m\u001b[38;5;241m*\u001b[39mkwargs)\n\u001b[1;32m   1997\u001b[0m \u001b[38;5;28mself\u001b[39m\u001b[38;5;241m.\u001b[39mstopClock()\n\u001b[1;32m   1998\u001b[0m \u001b[38;5;28mself\u001b[39m\u001b[38;5;241m.\u001b[39mrestoreObjective(wasNone, dummyVar)\n",
            "File \u001b[0;32m~/miniconda3/envs/johi_env/lib/python3.13/site-packages/pulp/apis/coin_api.py:354\u001b[0m, in \u001b[0;36mPULP_CBC_CMD.actualSolve\u001b[0;34m(self, lp, callback)\u001b[0m\n\u001b[1;32m    352\u001b[0m \u001b[38;5;28;01mdef\u001b[39;00m \u001b[38;5;21mactualSolve\u001b[39m(\u001b[38;5;28mself\u001b[39m, lp, callback\u001b[38;5;241m=\u001b[39m\u001b[38;5;28;01mNone\u001b[39;00m):\n\u001b[1;32m    353\u001b[0m \u001b[38;5;250m    \u001b[39m\u001b[38;5;124;03m\"\"\"Solve a well formulated lp problem\"\"\"\u001b[39;00m\n\u001b[0;32m--> 354\u001b[0m     \u001b[38;5;28;01mraise\u001b[39;00m PulpSolverError(\n\u001b[1;32m    355\u001b[0m         \u001b[38;5;124m\"\u001b[39m\u001b[38;5;124mPULP_CBC_CMD: Not Available (check permissions on \u001b[39m\u001b[38;5;132;01m%s\u001b[39;00m\u001b[38;5;124m)\u001b[39m\u001b[38;5;124m\"\u001b[39m\n\u001b[1;32m    356\u001b[0m         \u001b[38;5;241m%\u001b[39m \u001b[38;5;28mself\u001b[39m\u001b[38;5;241m.\u001b[39mpulp_cbc_path\n\u001b[1;32m    357\u001b[0m     )\n",
            "\u001b[0;31mPulpSolverError\u001b[0m: PULP_CBC_CMD: Not Available (check permissions on /Users/moky/miniconda3/envs/johi_env/lib/python3.13/site-packages/pulp/solverdir/cbc/osx/arm64/cbc)"
          ]
        }
      ],
      "source": [
        "dea = MultipleDEA(\"CRS\", \"in\")\n",
        "dea.fit(df[[\"price\", \"rent\"]].to_numpy(), df[[\"output\"]].to_numpy())"
      ]
    },
    {
      "cell_type": "code",
      "execution_count": null,
      "metadata": {
        "collapsed": false
      },
      "outputs": [],
      "source": [
        "dea.result[0]"
      ]
    },
    {
      "cell_type": "code",
      "execution_count": null,
      "metadata": {
        "collapsed": false
      },
      "outputs": [],
      "source": [
        "[r.score for r in dea.result]"
      ]
    },
    {
      "cell_type": "code",
      "execution_count": null,
      "metadata": {
        "collapsed": false
      },
      "outputs": [],
      "source": [
        "dea.cross_efficiency"
      ]
    },
    {
      "cell_type": "code",
      "execution_count": null,
      "metadata": {
        "collapsed": false
      },
      "outputs": [],
      "source": [
        "efficiency_matrix = dea._cross_efficiency_matrix()\n",
        "\n",
        "plt.figure()\n",
        "plt.imshow(efficiency_matrix, interpolation=\"nearest\", vmin=0, vmax=1, cmap=\"Blues\")\n",
        "plt.colorbar()\n",
        "plt.show()"
      ]
    },
    {
      "cell_type": "markdown",
      "metadata": {},
      "source": [
        "## References\n",
        ".. seealso::\n",
        "\n",
        "   Author\n",
        "      John Doyle and Rodney Green. \n",
        "   Title\n",
        "      *Efficiency and Cross-efficiency in DEA: Derivations, Meanings and Uses*, \n",
        "    Journal of the Operational Research Society, \n",
        "    1994. \n",
        "    :numref:`10.1057/jors.1994.84`. \n",
        "\n"
      ]
    },
    {
      "cell_type": "markdown",
      "metadata": {},
      "source": [
        ".. seealso::\n",
        "\n",
        "   Author\n",
        "      Sexton, Thomas R. and Silkman, Richard H. and Hogan, Andrew J.. \n",
        "   Title\n",
        "      *Data envelopment analysis: Critique and extensions*, \n",
        "    New Directions for Program Evaluation, \n",
        "    1986. \n",
        "    :numref:`https://doi.org/10.1002/ev.1441`. \n",
        "\n"
      ]
    }
  ],
  "metadata": {
    "kernelspec": {
      "display_name": "johi_env",
      "language": "python",
      "name": "python3"
    },
    "language_info": {
      "codemirror_mode": {
        "name": "ipython",
        "version": 3
      },
      "file_extension": ".py",
      "mimetype": "text/x-python",
      "name": "python",
      "nbconvert_exporter": "python",
      "pygments_lexer": "ipython3",
      "version": "3.13.2"
    }
  },
  "nbformat": 4,
  "nbformat_minor": 0
}
